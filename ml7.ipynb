{
 "cells": [
  {
   "cell_type": "code",
   "execution_count": 5,
   "id": "e4cf351c",
   "metadata": {},
   "outputs": [
    {
     "name": "stdout",
     "output_type": "stream",
     "text": [
      "       x1      x2      x3      x4      x5      x6      x7      x8      x9  \\\n",
      "0 -0.5916  0.4412  2.4308  1.5825  0.1876 -0.2521 -0.3299 -0.9092 -0.3309   \n",
      "1  1.8573 -1.1928 -0.3588 -0.7002 -1.5112  0.6035  0.6448  1.1514 -0.2049   \n",
      "2 -0.3633 -0.9806 -0.8719  0.7124  0.0033 -0.4225 -0.1059  0.0591 -0.8569   \n",
      "3  1.3348  0.7931 -0.0062  0.2492 -0.0869 -0.1011  1.5615  0.1977 -0.6316   \n",
      "4  0.4944 -0.3059  0.1007  1.2920 -0.3363  0.3554 -0.1006  1.1393 -0.4777   \n",
      "\n",
      "      x10       y  \n",
      "0  0.1096  4.6788  \n",
      "1 -1.6648  1.4052  \n",
      "2  0.9964  0.8043  \n",
      "3 -0.0523 -0.6637  \n",
      "4  0.2696 -1.2978  \n",
      "2 9 3 6 10 8 1 5 4 7\n",
      "8 1 2 4 7 5 9 3 6 10\n"
     ]
    }
   ],
   "source": [
    "import pandas as pd\n",
    "from sklearn.inspection import permutation_importance\n",
    "from sklearn.linear_model import Ridge\n",
    "from sklearn.neural_network import MLPRegressor\n",
    "\n",
    "\n",
    "data_path = \"./\"\n",
    "train = pd.read_csv(data_path + 'data.csv')\n",
    "print(train.head())\n",
    "feats = [f\"x{i}\" for i in range(1, 11)]\n",
    "X, Y = train[feats], train[\"y\"]\n",
    "\n",
    "lm = Ridge(alpha=0).fit(X, Y)\n",
    "imp_lm = permutation_importance(lm, X, Y, n_repeats=30, random_state=0)\n",
    "print(*(imp_lm.importances_mean.argsort()[::-1] + 1))\n",
    "\n",
    "mlp = MLPRegressor(hidden_layer_sizes=(128, 64), activation=\"relu\", batch_size=256, early_stopping=True).fit(X.values, Y)\n",
    "imp_mlp = permutation_importance(mlp, X.values, Y, n_repeats=30, random_state=0)\n",
    "print(*(imp_mlp.importances_mean.argsort()[::-1] + 1))"
   ]
  },
  {
   "cell_type": "code",
   "execution_count": null,
   "id": "a9b61a29",
   "metadata": {},
   "outputs": [],
   "source": []
  }
 ],
 "metadata": {
  "kernelspec": {
   "display_name": "Python 3 (ipykernel)",
   "language": "python",
   "name": "python3"
  },
  "language_info": {
   "codemirror_mode": {
    "name": "ipython",
    "version": 3
   },
   "file_extension": ".py",
   "mimetype": "text/x-python",
   "name": "python",
   "nbconvert_exporter": "python",
   "pygments_lexer": "ipython3",
   "version": "3.11.5"
  }
 },
 "nbformat": 4,
 "nbformat_minor": 5
}
