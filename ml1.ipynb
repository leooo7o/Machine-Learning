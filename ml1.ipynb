{
 "cells": [
  {
   "cell_type": "code",
   "execution_count": 1,
   "id": "6b61788f",
   "metadata": {},
   "outputs": [],
   "source": [
    "import numpy as np\n",
    "import pandas as pd\n",
    "import matplotlib.pyplot as plt\n",
    "import warnings\n",
    "import statsmodels.api as sm\n",
    "from sklearn.decomposition import PCA\n",
    "\n",
    "data = pd.read_csv(\"./test_sample.csv\")\n",
    "data.describe()\n",
    "\n",
    "X = data.iloc[:,1:]\n",
    "Y = data['Y']"
   ]
  },
  {
   "cell_type": "code",
   "execution_count": 2,
   "id": "05803f82",
   "metadata": {},
   "outputs": [
    {
     "name": "stdout",
     "output_type": "stream",
     "text": [
      "smallest number R^2 > 0.9: 341\n"
     ]
    }
   ],
   "source": [
    "def find_best_model(X, Y, max_vars=491, min_r_squared=0.9):\n",
    "    for j in range(2, max_vars+1):\n",
    "        X_j = X.iloc[:, :j]\n",
    "        X_j = sm.add_constant(X_j)\n",
    "        model = sm.OLS(Y, X_j).fit()\n",
    "        r_squared = model.rsquared\n",
    "\n",
    "        if r_squared > min_r_squared:\n",
    "            return j\n",
    "\n",
    "    return None\n",
    "n_orig = find_best_model(X,Y)\n",
    "print(\"smallest number R^2 > 0.9:\",n_orig)"
   ]
  },
  {
   "cell_type": "code",
   "execution_count": 3,
   "id": "ebe8185a",
   "metadata": {},
   "outputs": [],
   "source": [
    "def pca_analysis(X, n_components=491):\n",
    "    pca = PCA(n_components=n_components)\n",
    "    pca.fit(X)\n",
    "    \n",
    "    importance = pd.DataFrame({\n",
    "        'Standard deviation': np.sqrt(pca.explained_variance_),\n",
    "        'Proportion of Variance': pca.explained_variance_ratio_,\n",
    "        'Cumulative Proportion': np.cumsum(pca.explained_variance_ratio_)\n",
    "    }, index=[f\"PC{i+1}\" for i in range(n_components)])\n",
    "\n",
    "    scores = pd.DataFrame(\n",
    "        pca.transform(X),\n",
    "        columns=[f\"PC{i+1}\" for i in range(n_components)]\n",
    "    )   \n",
    "    return importance, scores\n",
    "\n",
    "xPCA_importance, factorScores=pca_analysis(X,491)"
   ]
  },
  {
   "cell_type": "code",
   "execution_count": 4,
   "id": "51e90c2a",
   "metadata": {},
   "outputs": [
    {
     "name": "stdout",
     "output_type": "stream",
     "text": [
      "               last         first        betasq         pratt\n",
      "PC1    1.092959e-03  1.092959e-03  1.095150e-03  1.094054e-03\n",
      "PC2    1.855047e-02  1.855047e-02  1.858764e-02  1.856904e-02\n",
      "PC3    1.112873e-02  1.112873e-02  1.115104e-02  1.113988e-02\n",
      "PC4    5.137558e-03  5.137558e-03  5.147853e-03  5.142703e-03\n",
      "PC5    6.401958e-03  6.401958e-03  6.414788e-03  6.408370e-03\n",
      "...             ...           ...           ...           ...\n",
      "PC487  5.159097e-07  5.159097e-07  5.169436e-07  5.164264e-07\n",
      "PC488  5.460891e-06  5.460891e-06  5.471835e-06  5.466361e-06\n",
      "PC489  3.359578e-06  3.359578e-06  3.366311e-06  3.362943e-06\n",
      "PC490  2.518500e-09  2.518500e-09  2.523547e-09  2.521022e-09\n",
      "PC491  7.191697e-08  7.191697e-08  7.206109e-08  7.198899e-08\n",
      "\n",
      "[491 rows x 4 columns]\n",
      "PC1      173.0\n",
      "PC2        9.0\n",
      "PC3       18.0\n",
      "PC4       57.0\n",
      "PC5       40.0\n",
      "         ...  \n",
      "PC487    480.0\n",
      "PC488    442.0\n",
      "PC489    457.0\n",
      "PC490    491.0\n",
      "PC491    487.0\n",
      "Name: first, Length: 491, dtype: float64\n"
     ]
    }
   ],
   "source": [
    "def rel_imp_me(X, y):\n",
    "    names = X.columns\n",
    "    ser = pd.Series(index=names)\n",
    "    lm0 = sm.OLS(y, sm.add_constant(X)).fit()\n",
    "\n",
    "    for c in names:\n",
    "        lm = sm.OLS(y, sm.add_constant(X[names.drop(c)])).fit()\n",
    "        ser[c] = lm0.rsquared - lm.rsquared\n",
    "\n",
    "    res = pd.DataFrame(columns=['last', 'first', 'betasq', 'pratt'], index=names)\n",
    "    res['last'] = ser\n",
    "    corr = X.apply(lambda x: np.corrcoef(y, x)[0, 1], axis=0)\n",
    "    res['first'] = corr ** 2\n",
    "    sx = X.std()\n",
    "    res['betasq'] = (lm0.params[names] * sx / np.std(y)) ** 2\n",
    "    res['pratt'] = (lm0.params[names] * sx / np.std(y)) * corr\n",
    "    return res\n",
    "metrics_PCA = rel_imp_me(factorScores, Y)\n",
    "print(metrics_PCA)\n",
    "\n",
    "first_PCA_rank = metrics_PCA[\"first\"].rank(ascending=False, method='first')\n",
    "print(first_PCA_rank)\n"
   ]
  },
  {
   "cell_type": "code",
   "execution_count": 5,
   "id": "92a8874e",
   "metadata": {},
   "outputs": [],
   "source": [
    "metrics_PCA_sort = pd.DataFrame({\"Factors\" : first_PCA_rank.index,\n",
    "                                 \"Rank\" : first_PCA_rank.values}).sort_values(by=\"Rank\") \n",
    "orderedFactors = pd.DataFrame(factorScores, columns= metrics_PCA_sort[\"Factors\"])"
   ]
  },
  {
   "cell_type": "code",
   "execution_count": 6,
   "id": "c1baebd0",
   "metadata": {},
   "outputs": [],
   "source": [
    "def rSquar(j, y, X) :\n",
    "    return sm.OLS(y, sm.add_constant(X.iloc[:,:j])).fit().rsquared"
   ]
  },
  {
   "cell_type": "code",
   "execution_count": 7,
   "id": "e7ac888c",
   "metadata": {},
   "outputs": [
    {
     "name": "stdout",
     "output_type": "stream",
     "text": [
      "Determination coefficient(R^2): 0.9008394770655794\n",
      "Smallest number of PCA factors: 157\n",
      "Model dimensionality reduction: 184\n"
     ]
    }
   ],
   "source": [
    "target_r_squared = 0.9 \n",
    "\n",
    "n_PCA = None\n",
    "model_dimensionality_reduction = None\n",
    "\n",
    "orderedPCA_R2 = [rSquar(j,Y, orderedFactors) for j in range(2,492)]\n",
    "\n",
    "for j in range(2, 492):\n",
    "    if orderedPCA_R2[j - 2] >= target_r_squared:\n",
    "        n_PCA = j\n",
    "        model_dimensionality_reduction = n_orig - n_PCA\n",
    "        print(\"Determination coefficient(R^2):\", orderedPCA_R2[j - 2])\n",
    "        break\n",
    "\n",
    "print(\"Smallest number of PCA factors:\", n_PCA)\n",
    "print(\"Model dimensionality reduction:\", model_dimensionality_reduction)\n"
   ]
  },
  {
   "cell_type": "code",
   "execution_count": null,
   "id": "6123b883",
   "metadata": {},
   "outputs": [],
   "source": []
  }
 ],
 "metadata": {
  "kernelspec": {
   "display_name": "Python 3 (ipykernel)",
   "language": "python",
   "name": "python3"
  },
  "language_info": {
   "codemirror_mode": {
    "name": "ipython",
    "version": 3
   },
   "file_extension": ".py",
   "mimetype": "text/x-python",
   "name": "python",
   "nbconvert_exporter": "python",
   "pygments_lexer": "ipython3",
   "version": "3.11.5"
  }
 },
 "nbformat": 4,
 "nbformat_minor": 5
}
