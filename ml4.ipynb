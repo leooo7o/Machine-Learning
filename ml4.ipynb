{
 "cells": [
  {
   "cell_type": "code",
   "execution_count": 2,
   "id": "29398120",
   "metadata": {},
   "outputs": [],
   "source": [
    "import pandas as pd\n",
    "import numpy as np\n",
    "import os\n",
    "import xgboost as xgb\n",
    "from sklearn.ensemble import RandomForestClassifier"
   ]
  },
  {
   "cell_type": "code",
   "execution_count": 3,
   "id": "311d08c5",
   "metadata": {},
   "outputs": [],
   "source": [
    "data_path = \"D:/jupyter_py/4\" # replace with your own local folder path\n",
    "train = pd.read_csv(os.path.join(data_path,\"train_sample.csv\"))\n",
    "test = pd.read_csv(os.path.join(data_path,\"test_sample.csv\"))"
   ]
  },
  {
   "cell_type": "code",
   "execution_count": 4,
   "id": "c6855dd9",
   "metadata": {},
   "outputs": [
    {
     "name": "stderr",
     "output_type": "stream",
     "text": [
      "D:\\Program Files\\anaconda\\Lib\\site-packages\\xgboost\\data.py:299: FutureWarning: is_sparse is deprecated and will be removed in a future version. Check `isinstance(dtype, pd.SparseDtype)` instead.\n",
      "  if is_sparse(dtype):\n",
      "D:\\Program Files\\anaconda\\Lib\\site-packages\\xgboost\\data.py:301: FutureWarning: is_categorical_dtype is deprecated and will be removed in a future version. Use isinstance(dtype, CategoricalDtype) instead\n",
      "  elif is_categorical_dtype(dtype) and enable_categorical:\n",
      "D:\\Program Files\\anaconda\\Lib\\site-packages\\xgboost\\data.py:332: FutureWarning: is_categorical_dtype is deprecated and will be removed in a future version. Use isinstance(dtype, CategoricalDtype) instead\n",
      "  if is_categorical_dtype(dtype)\n",
      "D:\\Program Files\\anaconda\\Lib\\site-packages\\xgboost\\data.py:323: FutureWarning: is_categorical_dtype is deprecated and will be removed in a future version. Use isinstance(dtype, CategoricalDtype) instead\n",
      "  return is_int or is_bool or is_float or is_categorical_dtype(dtype)\n",
      "D:\\Program Files\\anaconda\\Lib\\site-packages\\xgboost\\data.py:427: FutureWarning: is_sparse is deprecated and will be removed in a future version. Check `isinstance(dtype, pd.SparseDtype)` instead.\n",
      "  if is_sparse(data):\n"
     ]
    }
   ],
   "source": [
    "dtrain = xgb.DMatrix(train.iloc[:,:-1], label=train['class'])\n",
    "params = {'objective': 'binary:logistic', 'eval_metric': 'auc'}\n",
    "cv_results = xgb.cv(params=params, dtrain=dtrain, num_boost_round=1000, nfold=5,\n",
    "                    early_stopping_rounds=10, seed=0, verbose_eval=False)\n",
    "best_num_rounds = cv_results.shape[0]"
   ]
  },
  {
   "cell_type": "code",
   "execution_count": 5,
   "id": "9f06c63a",
   "metadata": {},
   "outputs": [
    {
     "name": "stderr",
     "output_type": "stream",
     "text": [
      "D:\\Program Files\\anaconda\\Lib\\site-packages\\xgboost\\data.py:299: FutureWarning: is_sparse is deprecated and will be removed in a future version. Check `isinstance(dtype, pd.SparseDtype)` instead.\n",
      "  if is_sparse(dtype):\n",
      "D:\\Program Files\\anaconda\\Lib\\site-packages\\xgboost\\data.py:301: FutureWarning: is_categorical_dtype is deprecated and will be removed in a future version. Use isinstance(dtype, CategoricalDtype) instead\n",
      "  elif is_categorical_dtype(dtype) and enable_categorical:\n",
      "D:\\Program Files\\anaconda\\Lib\\site-packages\\xgboost\\data.py:332: FutureWarning: is_categorical_dtype is deprecated and will be removed in a future version. Use isinstance(dtype, CategoricalDtype) instead\n",
      "  if is_categorical_dtype(dtype)\n",
      "D:\\Program Files\\anaconda\\Lib\\site-packages\\xgboost\\data.py:323: FutureWarning: is_categorical_dtype is deprecated and will be removed in a future version. Use isinstance(dtype, CategoricalDtype) instead\n",
      "  return is_int or is_bool or is_float or is_categorical_dtype(dtype)\n"
     ]
    }
   ],
   "source": [
    "bst = xgb.train(params=params, dtrain=dtrain, num_boost_round=best_num_rounds)\n",
    "dtest = xgb.DMatrix(test)\n",
    "prediction = bst.predict(dtest)"
   ]
  },
  {
   "cell_type": "code",
   "execution_count": 6,
   "id": "77079dfe",
   "metadata": {},
   "outputs": [],
   "source": [
    "rf = RandomForestClassifier(random_state=0)\n",
    "rf.fit(train.iloc[:,:-1], train['class'])\n",
    "importances = rf.feature_importances_\n",
    "rf_most_important = np.argsort(importances)[-1] + 1"
   ]
  },
  {
   "cell_type": "code",
   "execution_count": 7,
   "id": "0c8ef51f",
   "metadata": {},
   "outputs": [
    {
     "name": "stdout",
     "output_type": "stream",
     "text": [
      "6 (500,)\n"
     ]
    }
   ],
   "source": [
    "np.savez('submission.npz', rf_most_important=rf_most_important, prediction=prediction)\n",
    "npzfile = np.load('submission.npz')\n",
    "print(npzfile['rf_most_important'],npzfile['prediction'].shape)"
   ]
  },
  {
   "cell_type": "code",
   "execution_count": null,
   "id": "ba0c3b98",
   "metadata": {},
   "outputs": [],
   "source": []
  }
 ],
 "metadata": {
  "kernelspec": {
   "display_name": "Python 3 (ipykernel)",
   "language": "python",
   "name": "python3"
  },
  "language_info": {
   "codemirror_mode": {
    "name": "ipython",
    "version": 3
   },
   "file_extension": ".py",
   "mimetype": "text/x-python",
   "name": "python",
   "nbconvert_exporter": "python",
   "pygments_lexer": "ipython3",
   "version": "3.11.5"
  }
 },
 "nbformat": 4,
 "nbformat_minor": 5
}
